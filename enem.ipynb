{
 "cells": [
  {
   "cell_type": "code",
   "execution_count": 1,
   "id": "45fe2f05",
   "metadata": {},
   "outputs": [],
   "source": [
    "import matplotlib.pyplot as plt\n",
    "import pandas as pd"
   ]
  },
  {
   "cell_type": "code",
   "execution_count": 3,
   "id": "14e3f2e2",
   "metadata": {},
   "outputs": [],
   "source": [
    "df_enem = pd.read_csv(\"data/enem.csv\", encoding='latin-1', sep=\";\")"
   ]
  },
  {
   "cell_type": "markdown",
   "id": "23f90ff8",
   "metadata": {},
   "source": [
    "# Questão 1"
   ]
  },
  {
   "cell_type": "code",
   "execution_count": null,
   "id": "18b94100",
   "metadata": {},
   "outputs": [],
   "source": []
  },
  {
   "cell_type": "markdown",
   "id": "62e3a42b",
   "metadata": {},
   "source": [
    "# Questão 2"
   ]
  },
  {
   "cell_type": "code",
   "execution_count": null,
   "id": "231f24f7",
   "metadata": {},
   "outputs": [
    {
     "name": "stdout",
     "output_type": "stream",
     "text": [
      "504.4266347858333\n",
      "342.7583947344405\n",
      "597.1142176243287\n",
      "549.9523932538671\n"
     ]
    }
   ],
   "source": [
    "df_enem['NU_MEDIA'] = df_enem[['NU_NOTA_CN', 'NU_NOTA_CH', 'NU_NOTA_LC', 'NU_NOTA_MT', 'NU_NOTA_REDACAO']].mean(axis=1)\n",
    "df_enem['NU_MEDIA_GEOMETRICA'] = df_enem[['NU_NOTA_CN', 'NU_NOTA_CH', 'NU_NOTA_LC', 'NU_NOTA_MT', 'NU_NOTA_REDACAO']].prod(axis=1)**(1/5)\n",
    "df_escola_publica = df_enem[df_enem[\"TP_ESCOLA\"] == 2]\n",
    "df_escola_privada = df_enem[df_enem[\"TP_ESCOLA\"] == 3]\n",
    "\n",
    "print(df_escola_publica['NU_MEDIA'].mean())\n",
    "print(df_escola_publica['NU_MEDIA_GEOMETRICA'].mean())\n",
    "print(df_escola_privada['NU_MEDIA'].mean())\n",
    "print(df_escola_privada['NU_MEDIA_GEOMETRICA'].mean())\n",
    "\n"
   ]
  },
  {
   "cell_type": "markdown",
   "id": "ba14022c",
   "metadata": {},
   "source": [
    "# Questão 3"
   ]
  },
  {
   "cell_type": "code",
   "execution_count": null,
   "id": "1a1a3cc9",
   "metadata": {},
   "outputs": [],
   "source": []
  },
  {
   "cell_type": "markdown",
   "id": "eb808db3",
   "metadata": {},
   "source": [
    "# Questão 4"
   ]
  },
  {
   "cell_type": "code",
   "execution_count": 11,
   "id": "66a5abb3",
   "metadata": {
    "vscode": {
     "languageId": "ruby"
    }
   },
   "outputs": [
    {
     "name": "stdout",
     "output_type": "stream",
     "text": [
      "Correlação entre a nota da redação e a nota da prova de Linguagem e Códigos: 0.5043481190925155\n",
      "Correlação entre a nota na competência 1 e a nota da prova de Linguagem e Códigos: 0.476542298659926\n",
      "Correlação entre a nota na competência 2 e a nota da prova de Linguagem e Códigos: 0.4146140178442655\n",
      "Correlação entre a nota na competência 3 e a nota da prova de Linguagem e Códigos: 0.4581684480536864\n",
      "Correlação entre a nota na competência 4 e a nota da prova de Linguagem e Códigos: 0.44238395283192933\n",
      "Correlação entre a nota na competência 5 e a nota da prova de Linguagem e Códigos: 0.4541223620978761\n"
     ]
    }
   ],
   "source": [
    "correlacao_total = df_enem['NU_NOTA_REDACAO'].corr(df_enem['NU_NOTA_LC'])\n",
    "correlacao_competencia_1 = df_enem['NU_NOTA_COMP1'].corr(df_enem['NU_NOTA_LC'])\n",
    "correlacao_competencia_2 = df_enem['NU_NOTA_COMP2'].corr(df_enem['NU_NOTA_LC'])\n",
    "correlacao_competencia_3 = df_enem['NU_NOTA_COMP3'].corr(df_enem['NU_NOTA_LC'])\n",
    "correlacao_competencia_4 = df_enem['NU_NOTA_COMP4'].corr(df_enem['NU_NOTA_LC'])\n",
    "correlacao_competencia_5 = df_enem['NU_NOTA_COMP5'].corr(df_enem['NU_NOTA_LC'])\n",
    "print(f\"Correlação entre a nota da redação e a nota da prova de Linguagem e Códigos: {correlacao_total}\")\n",
    "print(f\"Correlação entre a nota na competência 1 e a nota da prova de Linguagem e Códigos: {correlacao_competencia_1}\")\n",
    "print(f\"Correlação entre a nota na competência 2 e a nota da prova de Linguagem e Códigos: {correlacao_competencia_2}\")\n",
    "print(f\"Correlação entre a nota na competência 3 e a nota da prova de Linguagem e Códigos: {correlacao_competencia_3}\")\n",
    "print(f\"Correlação entre a nota na competência 4 e a nota da prova de Linguagem e Códigos: {correlacao_competencia_4}\")\n",
    "print(f\"Correlação entre a nota na competência 5 e a nota da prova de Linguagem e Códigos: {correlacao_competencia_5}\")"
   ]
  }
 ],
 "metadata": {
  "kernelspec": {
   "display_name": ".venv",
   "language": "python",
   "name": "python3"
  },
  "language_info": {
   "codemirror_mode": {
    "name": "ipython",
    "version": 3
   },
   "file_extension": ".py",
   "mimetype": "text/x-python",
   "name": "python",
   "nbconvert_exporter": "python",
   "pygments_lexer": "ipython3",
   "version": "3.12.2"
  }
 },
 "nbformat": 4,
 "nbformat_minor": 5
}
